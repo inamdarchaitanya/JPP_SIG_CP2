{
 "cells": [
  {
   "cell_type": "code",
   "execution_count": 1,
   "id": "3ed8f705-8501-4999-875e-09539946fe8b",
   "metadata": {},
   "outputs": [],
   "source": [
    "# Python program to draw star \n",
    "# using Turtle Programming \n",
    "import turtle \n",
    "star = turtle.Turtle() \n",
    "  \n",
    "star.right(75) \n",
    "star.forward(100) \n",
    "  \n",
    "for i in range(4): \n",
    "    star.right(144) \n",
    "    star.forward(100) \n",
    "      \n",
    "turtle.done() "
   ]
  },
  {
   "cell_type": "code",
   "execution_count": null,
   "id": "e838fd6f-5860-4478-96dc-8955c5f63aa7",
   "metadata": {},
   "outputs": [],
   "source": []
  }
 ],
 "metadata": {
  "kernelspec": {
   "display_name": "Python 3 (ipykernel)",
   "language": "python",
   "name": "python3"
  },
  "language_info": {
   "codemirror_mode": {
    "name": "ipython",
    "version": 3
   },
   "file_extension": ".py",
   "mimetype": "text/x-python",
   "name": "python",
   "nbconvert_exporter": "python",
   "pygments_lexer": "ipython3",
   "version": "3.12.4"
  }
 },
 "nbformat": 4,
 "nbformat_minor": 5
}
