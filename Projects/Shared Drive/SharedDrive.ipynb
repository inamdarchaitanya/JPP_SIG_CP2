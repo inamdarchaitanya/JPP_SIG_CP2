{
 "cells": [
  {
   "cell_type": "code",
   "execution_count": null,
   "id": "102e4f87-19c7-47cc-9b53-f32e1c647699",
   "metadata": {},
   "outputs": [
    {
     "name": "stdout",
     "output_type": "stream",
     "text": [
      "Welcome to the Shared Drive!\n",
      "Shared drive folder 'shared_drive' created!\n",
      "\n",
      "Main Menu:\n",
      "1. Upload a File\n",
      "2. View Files in the Shared Drive\n",
      "3. Read a File\n",
      "4. Exit\n"
     ]
    },
    {
     "name": "stdin",
     "output_type": "stream",
     "text": [
      "Enter your choice (1-4):  1\n"
     ]
    },
    {
     "name": "stdout",
     "output_type": "stream",
     "text": [
      "\n",
      "Upload a File:\n"
     ]
    },
    {
     "name": "stdin",
     "output_type": "stream",
     "text": [
      "Enter the file name to upload (e.g., myfile.txt):  Readme.md\n"
     ]
    }
   ],
   "source": [
    "import os\n",
    "\n",
    "# Define the shared drive folder\n",
    "SHARED_DRIVE_FOLDER = \"shared_drive\"\n",
    "\n",
    "def initialize_shared_drive():\n",
    "    \"\"\"Create the shared drive folder if it doesn't exist.\"\"\"\n",
    "    if not os.path.exists(SHARED_DRIVE_FOLDER):\n",
    "        os.makedirs(SHARED_DRIVE_FOLDER)\n",
    "        print(f\"Shared drive folder '{SHARED_DRIVE_FOLDER}' created!\")\n",
    "    else:\n",
    "        print(f\"Shared drive folder '{SHARED_DRIVE_FOLDER}' is ready.\")\n",
    "\n",
    "def upload_file():\n",
    "    \"\"\"Upload a file to the shared drive.\"\"\"\n",
    "    print(\"\\nUpload a File:\")\n",
    "    file_name = input(\"Enter the file name to upload (e.g., myfile.txt): \").strip()\n",
    "    file_path = os.path.join(SHARED_DRIVE_FOLDER, file_name)\n",
    "    \n",
    "    content = input(\"Enter the content of the file: \")\n",
    "    \n",
    "    with open(file_path, \"w\") as file:\n",
    "        file.write(content)\n",
    "    \n",
    "    print(f\"File '{file_name}' uploaded successfully to the shared drive!\")\n",
    "\n",
    "def view_files():\n",
    "    \"\"\"View all files in the shared drive.\"\"\"\n",
    "    print(\"\\nFiles in the Shared Drive:\")\n",
    "    files = os.listdir(SHARED_DRIVE_FOLDER)\n",
    "    if not files:\n",
    "        print(\"The shared drive is empty.\")\n",
    "    else:\n",
    "        for i, file_name in enumerate(files, start=1):\n",
    "            print(f\"{i}. {file_name}\")\n",
    "\n",
    "def read_file():\n",
    "    \"\"\"Read the content of a file in the shared drive.\"\"\"\n",
    "    print(\"\\nRead a File:\")\n",
    "    view_files()\n",
    "    file_name = input(\"Enter the name of the file to read: \").strip()\n",
    "    file_path = os.path.join(SHARED_DRIVE_FOLDER, file_name)\n",
    "    \n",
    "    if os.path.exists(file_path):\n",
    "        with open(file_path, \"r\") as file:\n",
    "            content = file.read()\n",
    "        print(f\"\\nContent of '{file_name}':\\n{content}\")\n",
    "    else:\n",
    "        print(f\"File '{file_name}' does not exist in the shared drive.\")\n",
    "\n",
    "def main():\n",
    "    print(\"Welcome to the Shared Drive!\")\n",
    "    initialize_shared_drive()\n",
    "    while True:\n",
    "        print(\"\\nMain Menu:\")\n",
    "        print(\"1. Upload a File\")\n",
    "        print(\"2. View Files in the Shared Drive\")\n",
    "        print(\"3. Read a File\")\n",
    "        print(\"4. Exit\")\n",
    "        choice = input(\"Enter your choice (1-4): \").strip()\n",
    "\n",
    "        if choice == \"1\":\n",
    "            upload_file()\n",
    "        elif choice == \"2\":\n",
    "            view_files()\n",
    "        elif choice == \"3\":\n",
    "            read_file()\n",
    "        elif choice == \"4\":\n",
    "            print(\"Goodbye!\")\n",
    "            break\n",
    "        else:\n",
    "            print(\"Invalid choice. Please try again.\")\n",
    "\n",
    "if __name__ == \"__main__\":\n",
    "    main()\n",
    "1"
   ]
  },
  {
   "cell_type": "code",
   "execution_count": null,
   "id": "3226c3a3-3986-41d8-a5ae-e0c30f705565",
   "metadata": {},
   "outputs": [],
   "source": []
  }
 ],
 "metadata": {
  "kernelspec": {
   "display_name": "Python 3 (ipykernel)",
   "language": "python",
   "name": "python3"
  },
  "language_info": {
   "codemirror_mode": {
    "name": "ipython",
    "version": 3
   },
   "file_extension": ".py",
   "mimetype": "text/x-python",
   "name": "python",
   "nbconvert_exporter": "python",
   "pygments_lexer": "ipython3",
   "version": "3.12.4"
  }
 },
 "nbformat": 4,
 "nbformat_minor": 5
}
