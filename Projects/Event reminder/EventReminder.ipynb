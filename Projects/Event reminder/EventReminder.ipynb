import datetime

# File to store events
EVENT_FILE = "events.txt"

# Function to load events from the file
def load_events():
    events = {}
    try:
        with open(EVENT_FILE, "r") as file:
            for line in file:
                name, date_str, importance = line.strip().split("|")
                events[name] = {"date": date_str, "importance": importance}
    except FileNotFoundError:
        pass
    return events

# Function to save events to the file
def save_events(events):
    with open(EVENT_FILE, "w") as file:
        for name, details in events.items():
            file.write(f"{name}|{details['date']}|{details['importance']}\n")

# Function to add a new event
def add_event(events):
    name = input("Enter event name: ")
    date_str = input("Enter event date (YYYY-MM-DD): ")
    importance = input("Enter event importance (High, Medium, Low): ")
    
    events[name] = {"date": date_str, "importance": importance}
    save_events(events)
    print(f"Event '{name}' added successfully.")

# Function to remove an event
def remove_event(events):
    name = input("Enter the name of the event to remove: ")
    if name in events:
        del events[name]
        save_events(events)
        print(f"Event '{name}' removed successfully.")
    else:
        print("Event not found.")

# Function to update an event
def update_event(events):
    name = input("Enter the name of the event to update: ")
    if name in events:
        date_str = input("Enter new event date (YYYY-MM-DD): ")
        importance = input("Enter new event importance (High, Medium, Low): ")

        events[name] = {"date": date_str, "importance": importance}
        save_events(events)
        print(f"Event '{name}' updated successfully.")
    else:
        print("Event not found.")

# Function to check for reminders
def check_reminders(events):
    today = datetime.datetime.today()
    today_str = today.strftime("%Y-%m-%d")

    print("\nUpcoming Events:")
    for name, details in events.items():
        event_date = datetime.datetime.strptime(details["date"], "%Y-%m-%d")
        days_left = (event_date - today).days

        if (details["importance"] == "High" and days_left <= 14) or \
           (details["importance"] == "Medium" and days_left <= 7) or \
           (details["importance"] == "Low" and days_left <= 2):
            print(f"{name} - {details['date']} ({details['importance']} importance, {days_left} days left)")

# Main menu
def main():
    events = load_events()

    while True:
        print("\nEvent Reminder System")
        print("1. Add Event")
        print("2. Remove Event")
        print("3. Update Event")
        print("4. Show Reminders")
        print("5. Exit")

        choice = input("Enter your choice: ")

        if choice == "1":
            add_event(events)
        elif choice == "2":
            remove_event(events)
        elif choice == "3":
            update_event(events)
        elif choice == "4":
            check_reminders(events)
        elif choice == "5":
            print("Exiting the program. Goodbye!")
            break
        else:
            print("Invalid choice. Please try again.")

# Run the program
if __name__ == "__main__":
    main()
