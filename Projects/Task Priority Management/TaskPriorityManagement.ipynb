{
 "cells": [
  {
   "cell_type": "code",
   "execution_count": null,
   "id": "f2e86ae2-a4c7-4f43-9f37-b47181f2958e",
   "metadata": {},
   "outputs": [
    {
     "name": "stdout",
     "output_type": "stream",
     "text": [
      "Welcome to the Task Manager!\n",
      "\n",
      "Main Menu:\n",
      "1. Add a Task\n",
      "2. View Tasks in Eisenhower Matrix\n",
      "3. Prioritize Urgent and Important Tasks\n",
      "4. Exit\n"
     ]
    },
    {
     "name": "stdin",
     "output_type": "stream",
     "text": [
      "Enter your choice (1-4):  1\n"
     ]
    },
    {
     "name": "stdout",
     "output_type": "stream",
     "text": [
      "\n",
      "Add a New Task:\n"
     ]
    },
    {
     "name": "stdin",
     "output_type": "stream",
     "text": [
      "Enter the task title:  Raddi\n"
     ]
    },
    {
     "name": "stdout",
     "output_type": "stream",
     "text": [
      "Set Priority:\n",
      "1. High Priority\n",
      "2. Low Priority\n"
     ]
    },
    {
     "name": "stdin",
     "output_type": "stream",
     "text": [
      "Choose (1 or 2):  2\n"
     ]
    },
    {
     "name": "stdout",
     "output_type": "stream",
     "text": [
      "Set Importance:\n",
      "1. Important\n",
      "2. Not Important\n"
     ]
    },
    {
     "name": "stdin",
     "output_type": "stream",
     "text": [
      "Choose (1 or 2):  2\n"
     ]
    },
    {
     "name": "stdout",
     "output_type": "stream",
     "text": [
      "Task 'Raddi' added successfully!\n",
      "\n",
      "Main Menu:\n",
      "1. Add a Task\n",
      "2. View Tasks in Eisenhower Matrix\n",
      "3. Prioritize Urgent and Important Tasks\n",
      "4. Exit\n"
     ]
    },
    {
     "name": "stdin",
     "output_type": "stream",
     "text": [
      "Enter your choice (1-4):  1\n"
     ]
    },
    {
     "name": "stdout",
     "output_type": "stream",
     "text": [
      "\n",
      "Add a New Task:\n"
     ]
    },
    {
     "name": "stdin",
     "output_type": "stream",
     "text": [
      "Enter the task title:  Studies\n"
     ]
    },
    {
     "name": "stdout",
     "output_type": "stream",
     "text": [
      "Set Priority:\n",
      "1. High Priority\n",
      "2. Low Priority\n"
     ]
    },
    {
     "name": "stdin",
     "output_type": "stream",
     "text": [
      "Choose (1 or 2):  1\n"
     ]
    },
    {
     "name": "stdout",
     "output_type": "stream",
     "text": [
      "Set Importance:\n",
      "1. Important\n",
      "2. Not Important\n"
     ]
    },
    {
     "name": "stdin",
     "output_type": "stream",
     "text": [
      "Choose (1 or 2):  1\n"
     ]
    },
    {
     "name": "stdout",
     "output_type": "stream",
     "text": [
      "Task 'Studies' added successfully!\n",
      "\n",
      "Main Menu:\n",
      "1. Add a Task\n",
      "2. View Tasks in Eisenhower Matrix\n",
      "3. Prioritize Urgent and Important Tasks\n",
      "4. Exit\n"
     ]
    },
    {
     "name": "stdin",
     "output_type": "stream",
     "text": [
      "Enter your choice (1-4):  1\n"
     ]
    },
    {
     "name": "stdout",
     "output_type": "stream",
     "text": [
      "\n",
      "Add a New Task:\n"
     ]
    },
    {
     "name": "stdin",
     "output_type": "stream",
     "text": [
      "Enter the task title:  visit mandir\n"
     ]
    },
    {
     "name": "stdout",
     "output_type": "stream",
     "text": [
      "Set Priority:\n",
      "1. High Priority\n",
      "2. Low Priority\n"
     ]
    },
    {
     "name": "stdin",
     "output_type": "stream",
     "text": [
      "Choose (1 or 2):  1\n"
     ]
    },
    {
     "name": "stdout",
     "output_type": "stream",
     "text": [
      "Set Importance:\n",
      "1. Important\n",
      "2. Not Important\n"
     ]
    },
    {
     "name": "stdin",
     "output_type": "stream",
     "text": [
      "Choose (1 or 2):  2\n"
     ]
    },
    {
     "name": "stdout",
     "output_type": "stream",
     "text": [
      "Task 'visit mandir' added successfully!\n",
      "\n",
      "Main Menu:\n",
      "1. Add a Task\n",
      "2. View Tasks in Eisenhower Matrix\n",
      "3. Prioritize Urgent and Important Tasks\n",
      "4. Exit\n"
     ]
    },
    {
     "name": "stdin",
     "output_type": "stream",
     "text": [
      "Enter your choice (1-4):  Visit doctor\n"
     ]
    },
    {
     "name": "stdout",
     "output_type": "stream",
     "text": [
      "Invalid choice. Please try again.\n",
      "\n",
      "Main Menu:\n",
      "1. Add a Task\n",
      "2. View Tasks in Eisenhower Matrix\n",
      "3. Prioritize Urgent and Important Tasks\n",
      "4. Exit\n"
     ]
    },
    {
     "name": "stdin",
     "output_type": "stream",
     "text": [
      "Enter your choice (1-4):  1\n"
     ]
    },
    {
     "name": "stdout",
     "output_type": "stream",
     "text": [
      "\n",
      "Add a New Task:\n"
     ]
    },
    {
     "name": "stdin",
     "output_type": "stream",
     "text": [
      "Enter the task title:  Visit doctor\n"
     ]
    },
    {
     "name": "stdout",
     "output_type": "stream",
     "text": [
      "Set Priority:\n",
      "1. High Priority\n",
      "2. Low Priority\n"
     ]
    },
    {
     "name": "stdin",
     "output_type": "stream",
     "text": [
      "Choose (1 or 2):  2\n"
     ]
    },
    {
     "name": "stdout",
     "output_type": "stream",
     "text": [
      "Set Importance:\n",
      "1. Important\n",
      "2. Not Important\n"
     ]
    },
    {
     "name": "stdin",
     "output_type": "stream",
     "text": [
      "Choose (1 or 2):  1\n"
     ]
    },
    {
     "name": "stdout",
     "output_type": "stream",
     "text": [
      "Task 'Visit doctor' added successfully!\n",
      "\n",
      "Main Menu:\n",
      "1. Add a Task\n",
      "2. View Tasks in Eisenhower Matrix\n",
      "3. Prioritize Urgent and Important Tasks\n",
      "4. Exit\n"
     ]
    },
    {
     "name": "stdin",
     "output_type": "stream",
     "text": [
      "Enter your choice (1-4):  2\n"
     ]
    },
    {
     "name": "stdout",
     "output_type": "stream",
     "text": [
      "\n",
      "Eisenhower Matrix:\n",
      "------------------------------\n",
      "Urgent and Important (Do Now):\n",
      "- Studies\n",
      "\n",
      "Not Urgent but Important (Plan):\n",
      "- Visit doctor\n",
      "\n",
      "Urgent but Not Important (Delegate):\n",
      "- visit mandir\n",
      "\n",
      "Not Urgent and Not Important (Delete):\n",
      "- Raddi\n",
      "------------------------------\n",
      "\n",
      "Main Menu:\n",
      "1. Add a Task\n",
      "2. View Tasks in Eisenhower Matrix\n",
      "3. Prioritize Urgent and Important Tasks\n",
      "4. Exit\n"
     ]
    }
   ],
   "source": [
    "def add_task(tasks):\n",
    "    print(\"\\nAdd a New Task:\")\n",
    "    title = input(\"Enter the task title: \").strip()\n",
    "    print(\"Set Priority:\")\n",
    "    print(\"1. High Priority\")\n",
    "    print(\"2. Low Priority\")\n",
    "    priority = input(\"Choose (1 or 2): \").strip()\n",
    "    print(\"Set Importance:\")\n",
    "    print(\"1. Important\")\n",
    "    print(\"2. Not Important\")\n",
    "    importance = input(\"Choose (1 or 2): \").strip()\n",
    "\n",
    "    if priority in [\"1\", \"2\"] and importance in [\"1\", \"2\"]:\n",
    "        tasks.append({\"title\": title, \"priority\": priority, \"importance\": importance})\n",
    "        print(f\"Task '{title}' added successfully!\")\n",
    "    else:\n",
    "        print(\"Invalid choice. Task not added.\")\n",
    "\n",
    "def display_tasks(tasks):\n",
    "    print(\"\\nEisenhower Matrix:\")\n",
    "    print(\"-\" * 30)\n",
    "    print(\"Urgent and Important (Do Now):\")\n",
    "    for task in tasks:\n",
    "        if task[\"priority\"] == \"1\" and task[\"importance\"] == \"1\":\n",
    "            print(f\"- {task['title']}\")\n",
    "    print(\"\\nNot Urgent but Important (Plan):\")\n",
    "    for task in tasks:\n",
    "        if task[\"priority\"] == \"2\" and task[\"importance\"] == \"1\":\n",
    "            print(f\"- {task['title']}\")\n",
    "    print(\"\\nUrgent but Not Important (Delegate):\")\n",
    "    for task in tasks:\n",
    "        if task[\"priority\"] == \"1\" and task[\"importance\"] == \"2\":\n",
    "            print(f\"- {task['title']}\")\n",
    "    print(\"\\nNot Urgent and Not Important (Delete):\")\n",
    "    for task in tasks:\n",
    "        if task[\"priority\"] == \"2\" and task[\"importance\"] == \"2\":\n",
    "            print(f\"- {task['title']}\")\n",
    "    print(\"-\" * 30)\n",
    "\n",
    "def prioritize_urgent_and_important(tasks):\n",
    "    print(\"\\nUrgent and Important Tasks (Do Now):\")\n",
    "    urgent_important_tasks = [\n",
    "        task for task in tasks if task[\"priority\"] == \"1\" and task[\"importance\"] == \"1\"\n",
    "    ]\n",
    "    if not urgent_important_tasks:\n",
    "        print(\"No urgent and important tasks.\")\n",
    "        return\n",
    "\n",
    "    print(\"Here are your urgent and important tasks:\")\n",
    "    for i, task in enumerate(urgent_important_tasks):\n",
    "        print(f\"{i + 1}. {task['title']}\")\n",
    "\n",
    "    choice = input(\"Enter the number of the task you want to prioritize: \").strip()\n",
    "    if choice.isdigit() and 1 <= int(choice) <= len(urgent_important_tasks):\n",
    "        chosen_task = urgent_important_tasks[int(choice) - 1]\n",
    "        print(f\"You chose to prioritize: {chosen_task['title']}\")\n",
    "    else:\n",
    "        print(\"Invalid choice.\")\n",
    "\n",
    "def main():\n",
    "    tasks = []\n",
    "    print(\"Welcome to the Task Manager!\")\n",
    "    while True:\n",
    "        print(\"\\nMain Menu:\")\n",
    "        print(\"1. Add a Task\")\n",
    "        print(\"2. View Tasks in Eisenhower Matrix\")\n",
    "        print(\"3. Prioritize Urgent and Important Tasks\")\n",
    "        print(\"4. Exit\")\n",
    "        choice = input(\"Enter your choice (1-4): \").strip()\n",
    "\n",
    "        if choice == \"1\":\n",
    "            add_task(tasks)\n",
    "        elif choice == \"2\":\n",
    "            display_tasks(tasks)\n",
    "        elif choice == \"3\":\n",
    "            prioritize_urgent_and_important(tasks)\n",
    "        elif choice == \"4\":\n",
    "            print(\"Goodbye!\")\n",
    "            break\n",
    "        else:\n",
    "            print(\"Invalid choice. Please try again.\")\n",
    "\n",
    "if __name__ == \"__main__\":\n",
    "    main()\n"
   ]
  },
  {
   "cell_type": "code",
   "execution_count": null,
   "id": "5bcd561e-1ddc-4b5c-bde0-9285007e9841",
   "metadata": {},
   "outputs": [],
   "source": []
  }
 ],
 "metadata": {
  "kernelspec": {
   "display_name": "Python 3 (ipykernel)",
   "language": "python",
   "name": "python3"
  },
  "language_info": {
   "codemirror_mode": {
    "name": "ipython",
    "version": 3
   },
   "file_extension": ".py",
   "mimetype": "text/x-python",
   "name": "python",
   "nbconvert_exporter": "python",
   "pygments_lexer": "ipython3",
   "version": "3.12.4"
  }
 },
 "nbformat": 4,
 "nbformat_minor": 5
}
