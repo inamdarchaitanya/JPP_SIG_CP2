{
 "cells": [
  {
   "cell_type": "code",
   "execution_count": null,
   "id": "bbf6de60-4ac8-4740-98df-7d12c0b5c890",
   "metadata": {},
   "outputs": [
    {
     "name": "stdout",
     "output_type": "stream",
     "text": [
      "Welcome to the Unit Converter!\n",
      "\n",
      "Main Menu:\n",
      "1. Length Conversion\n",
      "2. Weight Conversion\n",
      "3. Temperature Conversion\n",
      "4. Exit\n"
     ]
    },
    {
     "name": "stdin",
     "output_type": "stream",
     "text": [
      "Enter your choice (1-4):  3\n"
     ]
    },
    {
     "name": "stdout",
     "output_type": "stream",
     "text": [
      "\n",
      "Temperature Conversion:\n",
      "1. Celsius to Fahrenheit\n",
      "2. Fahrenheit to Celsius\n"
     ]
    },
    {
     "name": "stdin",
     "output_type": "stream",
     "text": [
      "Enter your choice (1-2):  1\n",
      "Enter temperature in Celsius:  38.5\n"
     ]
    },
    {
     "name": "stdout",
     "output_type": "stream",
     "text": [
      "38.5°C = 101.3°F\n",
      "\n",
      "Main Menu:\n",
      "1. Length Conversion\n",
      "2. Weight Conversion\n",
      "3. Temperature Conversion\n",
      "4. Exit\n"
     ]
    }
   ],
   "source": [
    "def length_converter():\n",
    "    print(\"\\nLength Conversion:\")\n",
    "    print(\"1. Meters to Kilometers\")\n",
    "    print(\"2. Kilometers to Meters\")\n",
    "    print(\"3. Centimeters to Meters\")\n",
    "    print(\"4. Meters to Centimeters\")\n",
    "    choice = input(\"Enter your choice (1-4): \").strip()\n",
    "\n",
    "    if choice == \"1\":\n",
    "        meters = float(input(\"Enter length in meters: \"))\n",
    "        print(f\"{meters} meters = {meters / 1000} kilometers\")\n",
    "    elif choice == \"2\":\n",
    "        kilometers = float(input(\"Enter length in kilometers: \"))\n",
    "        print(f\"{kilometers} kilometers = {kilometers * 1000} meters\")\n",
    "    elif choice == \"3\":\n",
    "        centimeters = float(input(\"Enter length in centimeters: \"))\n",
    "        print(f\"{centimeters} centimeters = {centimeters / 100} meters\")\n",
    "    elif choice == \"4\":\n",
    "        meters = float(input(\"Enter length in meters: \"))\n",
    "        print(f\"{meters} meters = {meters * 100} centimeters\")\n",
    "    else:\n",
    "        print(\"Invalid choice. Please try again.\")\n",
    "\n",
    "def weight_converter():\n",
    "    print(\"\\nWeight Conversion:\")\n",
    "    print(\"1. Grams to Kilograms\")\n",
    "    print(\"2. Kilograms to Grams\")\n",
    "    choice = input(\"Enter your choice (1-2): \").strip()\n",
    "\n",
    "    if choice == \"1\":\n",
    "        grams = float(input(\"Enter weight in grams: \"))\n",
    "        print(f\"{grams} grams = {grams / 1000} kilograms\")\n",
    "    elif choice == \"2\":\n",
    "        kilograms = float(input(\"Enter weight in kilograms: \"))\n",
    "        print(f\"{kilograms} kilograms = {kilograms * 1000} grams\")\n",
    "    else:\n",
    "        print(\"Invalid choice. Please try again.\")\n",
    "\n",
    "def temperature_converter():\n",
    "    print(\"\\nTemperature Conversion:\")\n",
    "    print(\"1. Celsius to Fahrenheit\")\n",
    "    print(\"2. Fahrenheit to Celsius\")\n",
    "    choice = input(\"Enter your choice (1-2): \").strip()\n",
    "\n",
    "    if choice == \"1\":\n",
    "        celsius = float(input(\"Enter temperature in Celsius: \"))\n",
    "        fahrenheit = (celsius * 9/5) + 32\n",
    "        print(f\"{celsius}°C = {fahrenheit}°F\")\n",
    "    elif choice == \"2\":\n",
    "        fahrenheit = float(input(\"Enter temperature in Fahrenheit: \"))\n",
    "        celsius = (fahrenheit - 32) * 5/9\n",
    "        print(f\"{fahrenheit}°F = {celsius}°C\")\n",
    "    else:\n",
    "        print(\"Invalid choice. Please try again.\")\n",
    "\n",
    "def main():\n",
    "    print(\"Welcome to the Unit Converter!\")\n",
    "    while True:\n",
    "        print(\"\\nMain Menu:\")\n",
    "        print(\"1. Length Conversion\")\n",
    "        print(\"2. Weight Conversion\")\n",
    "        print(\"3. Temperature Conversion\")\n",
    "        print(\"4. Exit\")\n",
    "        choice = input(\"Enter your choice (1-4): \").strip()\n",
    "\n",
    "        if choice == \"1\":\n",
    "            length_converter()\n",
    "        elif choice == \"2\":\n",
    "            weight_converter()\n",
    "        elif choice == \"3\":\n",
    "            temperature_converter()\n",
    "        elif choice == \"4\":\n",
    "            print(\"Goodbye!\")\n",
    "            break\n",
    "        else:\n",
    "            print(\"Invalid choice. Please try again.\")\n",
    "\n",
    "if __name__ == \"__main__\":\n",
    "    main()\n"
   ]
  },
  {
   "cell_type": "code",
   "execution_count": null,
   "id": "7aafce6a-4cf1-4752-95dd-f9cee7a62f83",
   "metadata": {},
   "outputs": [],
   "source": []
  }
 ],
 "metadata": {
  "kernelspec": {
   "display_name": "Python 3 (ipykernel)",
   "language": "python",
   "name": "python3"
  },
  "language_info": {
   "codemirror_mode": {
    "name": "ipython",
    "version": 3
   },
   "file_extension": ".py",
   "mimetype": "text/x-python",
   "name": "python",
   "nbconvert_exporter": "python",
   "pygments_lexer": "ipython3",
   "version": "3.12.4"
  }
 },
 "nbformat": 4,
 "nbformat_minor": 5
}
